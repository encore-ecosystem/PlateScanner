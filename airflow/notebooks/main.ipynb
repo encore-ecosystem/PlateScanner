{
 "cells": [
  {
   "metadata": {
    "ExecuteTime": {
     "end_time": "2024-10-05T08:46:35.421155Z",
     "start_time": "2024-10-05T08:46:33.898258Z"
    }
   },
   "cell_type": "code",
   "source": "import mlflow",
   "id": "54f0b1c97db6ceff",
   "outputs": [],
   "execution_count": 1
  },
  {
   "metadata": {
    "ExecuteTime": {
     "end_time": "2024-10-05T08:46:35.954923Z",
     "start_time": "2024-10-05T08:46:35.951455Z"
    }
   },
   "cell_type": "code",
   "source": "mlflow.set_tracking_uri(uri=\"http://127.0.0.1:5000\")",
   "id": "74cdc22c77c429d4",
   "outputs": [],
   "execution_count": 2
  },
  {
   "cell_type": "code",
   "id": "initial_id",
   "metadata": {
    "collapsed": true,
    "ExecuteTime": {
     "end_time": "2024-10-05T08:46:37.718277Z",
     "start_time": "2024-10-05T08:46:36.641449Z"
    }
   },
   "source": [
    "from sklearn.model_selection import train_test_split\n",
    "from sklearn.datasets import load_diabetes\n",
    "from sklearn.ensemble import RandomForestRegressor"
   ],
   "outputs": [],
   "execution_count": 3
  },
  {
   "metadata": {
    "ExecuteTime": {
     "end_time": "2024-10-04T17:26:35.602856Z",
     "start_time": "2024-10-04T17:26:30.932644Z"
    }
   },
   "cell_type": "code",
   "source": [
    "# set the experiment id\n",
    "mlflow.set_experiment(experiment_id=\"0\")\n",
    "\n",
    "mlflow.autolog()\n",
    "db = load_diabetes()\n",
    "\n",
    "X_train, X_test, y_train, y_test = train_test_split(db.data, db.target)\n",
    "\n",
    "# Create and train models.\n",
    "rf = RandomForestRegressor(n_estimators=100, max_depth=6, max_features=3)\n",
    "rf.fit(X_train, y_train)\n",
    "\n",
    "# Use the model to make predictions on the test dataset.\n",
    "predictions = rf.predict(X_test)"
   ],
   "id": "341e91fdcea6dffc",
   "outputs": [
    {
     "name": "stderr",
     "output_type": "stream",
     "text": [
      "2024/10/04 20:26:30 WARNING mlflow.utils.autologging_utils: MLflow sklearn autologging is known to be compatible with 0.24.1 <= scikit-learn <= 1.5.1, but the installed version is 1.5.2. If you encounter errors during autologging, try upgrading / downgrading scikit-learn to a compatible version, or try upgrading MLflow.\n",
      "2024/10/04 20:26:32 INFO mlflow.tracking.fluent: Autologging successfully enabled for sklearn.\n",
      "2024/10/04 20:26:32 INFO mlflow.utils.autologging_utils: Created MLflow autologging run with ID '49d056ff56a24337a9653b8938661143', which will track hyperparameters, performance metrics, model artifacts, and lineage information for the current sklearn workflow\n",
      "2024/10/04 20:26:35 INFO mlflow.tracking._tracking_service.client: 🏃 View run sedate-whale-603 at: http://127.0.0.1:5000/#/experiments/0/runs/49d056ff56a24337a9653b8938661143.\n",
      "2024/10/04 20:26:35 INFO mlflow.tracking._tracking_service.client: 🧪 View experiment at: http://127.0.0.1:5000/#/experiments/0.\n"
     ]
    }
   ],
   "execution_count": 4
  },
  {
   "metadata": {
    "ExecuteTime": {
     "end_time": "2024-10-04T17:26:35.613307Z",
     "start_time": "2024-10-04T17:26:35.611229Z"
    }
   },
   "cell_type": "code",
   "source": "",
   "id": "279bbbc355c80c6f",
   "outputs": [],
   "execution_count": null
  }
 ],
 "metadata": {
  "kernelspec": {
   "display_name": "Python 3",
   "language": "python",
   "name": "python3"
  },
  "language_info": {
   "codemirror_mode": {
    "name": "ipython",
    "version": 2
   },
   "file_extension": ".py",
   "mimetype": "text/x-python",
   "name": "python",
   "nbconvert_exporter": "python",
   "pygments_lexer": "ipython2",
   "version": "2.7.6"
  }
 },
 "nbformat": 4,
 "nbformat_minor": 5
}
