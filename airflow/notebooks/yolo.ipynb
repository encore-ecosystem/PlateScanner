{
 "cells": [
  {
   "metadata": {},
   "cell_type": "markdown",
   "source": "# Configure YOLO",
   "id": "dd0b9e678d83fbf0"
  },
  {
   "metadata": {
    "ExecuteTime": {
     "end_time": "2024-10-05T11:07:37.500649Z",
     "start_time": "2024-10-05T11:07:34.961014Z"
    }
   },
   "cell_type": "code",
   "source": [
    "from ultralytics import YOLO, settings\n",
    "settings.update({\"mlflow\": True})"
   ],
   "id": "8463c73d6ed471ef",
   "outputs": [],
   "execution_count": 1
  },
  {
   "metadata": {
    "ExecuteTime": {
     "end_time": "2024-10-05T11:07:37.508568Z",
     "start_time": "2024-10-05T11:07:37.504483Z"
    }
   },
   "cell_type": "code",
   "source": [
    "from pathlib import Path\n",
    "config = {\n",
    "    \"batch\": 8,\n",
    "    \"imgsz\": 1280,\n",
    "    \"epochs\": 1,\n",
    "    \"name\": \"YOLOv8\",\n",
    "    \"data\": [(path / 'data.yaml').resolve() for path in (Path().resolve().parent / 'dataset' / 'detection').iterdir() if '_Y_' in path.name][0],\n",
    "}"
   ],
   "id": "bbb7d4efabe9ff17",
   "outputs": [],
   "execution_count": 2
  },
  {
   "metadata": {},
   "cell_type": "markdown",
   "source": "# Configure MLFlow",
   "id": "6aea7d42a9314b18"
  },
  {
   "metadata": {
    "ExecuteTime": {
     "end_time": "2024-10-05T11:07:38.678179Z",
     "start_time": "2024-10-05T11:07:38.674975Z"
    }
   },
   "cell_type": "code",
   "source": "MLFLOW_ENDPOINT = \"http://127.0.0.1:5000\"",
   "id": "c358e54cbd212f24",
   "outputs": [],
   "execution_count": 3
  },
  {
   "metadata": {
    "ExecuteTime": {
     "end_time": "2024-10-05T11:07:49.412322Z",
     "start_time": "2024-10-05T11:07:49.398040Z"
    }
   },
   "cell_type": "code",
   "source": [
    "import requests\n",
    "HEALTH_URL = f\"{MLFLOW_ENDPOINT.lstrip('/')}/health\"\n",
    "print(\"Health URL:\", HEALTH_URL)\n",
    "code = requests.get(f\"{MLFLOW_ENDPOINT.lstrip('/')}/health\").status_code\n",
    "if code != 200:\n",
    "    raise Exception('SERVER NOT AVAILABLE')"
   ],
   "id": "6d289de0426d56de",
   "outputs": [
    {
     "name": "stdout",
     "output_type": "stream",
     "text": [
      "Health URL: http://127.0.0.1:5000/health\n"
     ]
    }
   ],
   "execution_count": 5
  },
  {
   "metadata": {
    "ExecuteTime": {
     "end_time": "2024-10-05T11:08:07.340549Z",
     "start_time": "2024-10-05T11:08:06.622060Z"
    }
   },
   "cell_type": "code",
   "source": [
    "from mlflow import MlflowClient\n",
    "client = MlflowClient(tracking_uri=MLFLOW_ENDPOINT)"
   ],
   "id": "1e49577f92cb4811",
   "outputs": [],
   "execution_count": 6
  },
  {
   "metadata": {},
   "cell_type": "markdown",
   "source": "# Experiment",
   "id": "fa21a04072da09d"
  },
  {
   "metadata": {
    "ExecuteTime": {
     "end_time": "2024-10-05T11:08:09.816494Z",
     "start_time": "2024-10-05T11:08:09.812687Z"
    }
   },
   "cell_type": "code",
   "source": "import mlflow",
   "id": "30b3a45a015c40fe",
   "outputs": [],
   "execution_count": 7
  },
  {
   "metadata": {
    "ExecuteTime": {
     "end_time": "2024-10-05T11:33:21.689494Z",
     "start_time": "2024-10-05T11:33:21.684493Z"
    }
   },
   "cell_type": "code",
   "source": "experiment_name = \"bankya_experiment_1\"",
   "id": "38012fe9eba6f0f0",
   "outputs": [],
   "execution_count": 31
  },
  {
   "metadata": {
    "ExecuteTime": {
     "end_time": "2024-10-05T11:33:23.006791Z",
     "start_time": "2024-10-05T11:33:22.933539Z"
    }
   },
   "cell_type": "code",
   "source": [
    "experiment = client.get_experiment_by_name(experiment_name)\n",
    "if experiment is None:\n",
    "    experiment_id = client.create_experiment(experiment_name)\n",
    "else:\n",
    "    experiment_id = experiment.experiment_id"
   ],
   "id": "a3078c29ea5bfb62",
   "outputs": [],
   "execution_count": 32
  },
  {
   "metadata": {
    "ExecuteTime": {
     "end_time": "2024-10-05T11:33:24.023263Z",
     "start_time": "2024-10-05T11:33:24.018642Z"
    }
   },
   "cell_type": "code",
   "source": "experiment_id",
   "id": "a41e5c4b1ad102c0",
   "outputs": [
    {
     "data": {
      "text/plain": [
       "'18'"
      ]
     },
     "execution_count": 33,
     "metadata": {},
     "output_type": "execute_result"
    }
   ],
   "execution_count": 33
  },
  {
   "metadata": {
    "ExecuteTime": {
     "end_time": "2024-10-05T11:33:52.504298Z",
     "start_time": "2024-10-05T11:33:52.472950Z"
    }
   },
   "cell_type": "code",
   "source": [
    "run = client.create_run(\n",
    "    experiment_id\n",
    ")"
   ],
   "id": "55322d50ec334ef9",
   "outputs": [],
   "execution_count": 34
  },
  {
   "metadata": {
    "ExecuteTime": {
     "end_time": "2024-10-05T11:34:27.362739Z",
     "start_time": "2024-10-05T11:34:27.326016Z"
    }
   },
   "cell_type": "code",
   "source": "client.log_param(run.info.run_id, \"my_param1\", \"2\")",
   "id": "63f7e9fc3d8af61f",
   "outputs": [
    {
     "data": {
      "text/plain": [
       "'2'"
      ]
     },
     "execution_count": 35,
     "metadata": {},
     "output_type": "execute_result"
    }
   ],
   "execution_count": 35
  },
  {
   "metadata": {},
   "cell_type": "code",
   "outputs": [],
   "execution_count": null,
   "source": [
    "model = YOLO(\"yolov8n.pt\")\n",
    "results = model.train(\n",
    "    data=config[\"data\"],\n",
    "    epochs=config[\"epochs\"],\n",
    "    batch=config[\"batch\"],\n",
    "    name=config[\"name\"],\n",
    "    imgsz=config[\"imgsz\"],\n",
    ")"
   ],
   "id": "22df2d1d72384079"
  },
  {
   "metadata": {
    "ExecuteTime": {
     "end_time": "2024-10-05T11:29:59.196592Z",
     "start_time": "2024-10-05T11:26:49.424829Z"
    }
   },
   "cell_type": "code",
   "source": [
    "# mlflow.set_tracking_uri(MLFLOW_ENDPOINT)\n",
    "# mlflow.set_registry_uri(MLFLOW_ENDPOINT)\n",
    "# \n",
    "# mlflow.set_experiment(experiment_name='MLFlow standalone')\n",
    "# # Load and train your YOLOv8 model\n",
    "# with mlflow.start_run() as run:\n"
   ],
   "id": "a974cc3550c62f78",
   "outputs": [
    {
     "name": "stdout",
     "output_type": "stream",
     "text": [
      "New https://pypi.org/project/ultralytics/8.3.5 available  Update with 'pip install -U ultralytics'\n",
      "Ultralytics 8.3.3  Python-3.12.5 torch-2.4.1+cu124 CUDA:0 (NVIDIA GeForce RTX 3060 Laptop GPU, 6144MiB)\n",
      "\u001B[34m\u001B[1mengine\\trainer: \u001B[0mtask=detect, mode=train, model=yolov8n.pt, data=C:\\Users\\monom\\Documents\\Programming\\PlateScanner\\airflow\\dataset\\detection\\data_1_RC_Y_718_307_2\\data.yaml, epochs=1, time=None, patience=100, batch=8, imgsz=1280, save=True, save_period=-1, cache=False, device=None, workers=8, project=None, name=YOLOv813, exist_ok=False, pretrained=True, optimizer=auto, verbose=True, seed=0, deterministic=True, single_cls=False, rect=False, cos_lr=False, close_mosaic=10, resume=False, amp=True, fraction=1.0, profile=False, freeze=None, multi_scale=False, overlap_mask=True, mask_ratio=4, dropout=0.0, val=True, split=val, save_json=False, save_hybrid=False, conf=None, iou=0.7, max_det=300, half=False, dnn=False, plots=True, source=None, vid_stride=1, stream_buffer=False, visualize=False, augment=False, agnostic_nms=False, classes=None, retina_masks=False, embed=None, show=False, save_frames=False, save_txt=False, save_conf=False, save_crop=False, show_labels=True, show_conf=True, show_boxes=True, line_width=None, format=torchscript, keras=False, optimize=False, int8=False, dynamic=False, simplify=True, opset=None, workspace=4, nms=False, lr0=0.01, lrf=0.01, momentum=0.937, weight_decay=0.0005, warmup_epochs=3.0, warmup_momentum=0.8, warmup_bias_lr=0.1, box=7.5, cls=0.5, dfl=1.5, pose=12.0, kobj=1.0, label_smoothing=0.0, nbs=64, hsv_h=0.015, hsv_s=0.7, hsv_v=0.4, degrees=0.0, translate=0.1, scale=0.5, shear=0.0, perspective=0.0, flipud=0.0, fliplr=0.5, bgr=0.0, mosaic=1.0, mixup=0.0, copy_paste=0.0, copy_paste_mode=flip, auto_augment=randaugment, erasing=0.4, crop_fraction=1.0, cfg=None, tracker=botsort.yaml, save_dir=C:\\Users\\monom\\Documents\\Programming\\PlateScanner\\runs\\detect\\YOLOv813\n",
      "Overriding model.yaml nc=80 with nc=1\n",
      "\n",
      "                   from  n    params  module                                       arguments                     \n",
      "  0                  -1  1       464  ultralytics.nn.modules.conv.Conv             [3, 16, 3, 2]                 \n",
      "  1                  -1  1      4672  ultralytics.nn.modules.conv.Conv             [16, 32, 3, 2]                \n",
      "  2                  -1  1      7360  ultralytics.nn.modules.block.C2f             [32, 32, 1, True]             \n",
      "  3                  -1  1     18560  ultralytics.nn.modules.conv.Conv             [32, 64, 3, 2]                \n",
      "  4                  -1  2     49664  ultralytics.nn.modules.block.C2f             [64, 64, 2, True]             \n",
      "  5                  -1  1     73984  ultralytics.nn.modules.conv.Conv             [64, 128, 3, 2]               \n",
      "  6                  -1  2    197632  ultralytics.nn.modules.block.C2f             [128, 128, 2, True]           \n",
      "  7                  -1  1    295424  ultralytics.nn.modules.conv.Conv             [128, 256, 3, 2]              \n",
      "  8                  -1  1    460288  ultralytics.nn.modules.block.C2f             [256, 256, 1, True]           \n",
      "  9                  -1  1    164608  ultralytics.nn.modules.block.SPPF            [256, 256, 5]                 \n",
      " 10                  -1  1         0  torch.nn.modules.upsampling.Upsample         [None, 2, 'nearest']          \n",
      " 11             [-1, 6]  1         0  ultralytics.nn.modules.conv.Concat           [1]                           \n",
      " 12                  -1  1    148224  ultralytics.nn.modules.block.C2f             [384, 128, 1]                 \n",
      " 13                  -1  1         0  torch.nn.modules.upsampling.Upsample         [None, 2, 'nearest']          \n",
      " 14             [-1, 4]  1         0  ultralytics.nn.modules.conv.Concat           [1]                           \n",
      " 15                  -1  1     37248  ultralytics.nn.modules.block.C2f             [192, 64, 1]                  \n",
      " 16                  -1  1     36992  ultralytics.nn.modules.conv.Conv             [64, 64, 3, 2]                \n",
      " 17            [-1, 12]  1         0  ultralytics.nn.modules.conv.Concat           [1]                           \n",
      " 18                  -1  1    123648  ultralytics.nn.modules.block.C2f             [192, 128, 1]                 \n",
      " 19                  -1  1    147712  ultralytics.nn.modules.conv.Conv             [128, 128, 3, 2]              \n",
      " 20             [-1, 9]  1         0  ultralytics.nn.modules.conv.Concat           [1]                           \n",
      " 21                  -1  1    493056  ultralytics.nn.modules.block.C2f             [384, 256, 1]                 \n",
      " 22        [15, 18, 21]  1    430867  ultralytics.nn.modules.head.Detect           [1, [64, 128, 256]]           \n",
      "Model summary: 249 layers, 2,690,403 parameters, 2,690,387 gradients, 6.9 GFLOPs\n",
      "\n",
      "Transferred 313/391 items from pretrained weights\n",
      "Freezing layer 'model.22.dfl.conv.weight'\n",
      "\u001B[34m\u001B[1mAMP: \u001B[0mrunning Automatic Mixed Precision (AMP) checks with YOLO11n...\n",
      "\u001B[34m\u001B[1mAMP: \u001B[0mchecks passed \n"
     ]
    },
    {
     "name": "stderr",
     "output_type": "stream",
     "text": [
      "\u001B[34m\u001B[1mtrain: \u001B[0mScanning C:\\Users\\monom\\Documents\\Programming\\PlateScanner\\airflow\\dataset\\detection\\data_1_RC_Y_718_307_2\\train\\labels.cache... 718 images, 4 backgrounds, 0 corrupt: 100%|██████████| 718/718 [00:00<?, ?it/s]"
     ]
    },
    {
     "name": "stdout",
     "output_type": "stream",
     "text": [
      "WARNING  Box and segment counts should be equal, but got len(segments) = 716, len(boxes) = 721. To resolve this only boxes will be used and all segments will be removed. To avoid this please supply either a detect or segment dataset, not a detect-segment mixed dataset.\n"
     ]
    },
    {
     "name": "stderr",
     "output_type": "stream",
     "text": [
      "\n",
      "\u001B[34m\u001B[1mval: \u001B[0mScanning C:\\Users\\monom\\Documents\\Programming\\PlateScanner\\airflow\\dataset\\detection\\data_1_RC_Y_718_307_2\\valid\\labels.cache... 307 images, 2 backgrounds, 0 corrupt: 100%|██████████| 307/307 [00:00<?, ?it/s]"
     ]
    },
    {
     "name": "stdout",
     "output_type": "stream",
     "text": [
      "WARNING  Box and segment counts should be equal, but got len(segments) = 305, len(boxes) = 307. To resolve this only boxes will be used and all segments will be removed. To avoid this please supply either a detect or segment dataset, not a detect-segment mixed dataset.\n"
     ]
    },
    {
     "name": "stderr",
     "output_type": "stream",
     "text": [
      "\n"
     ]
    },
    {
     "name": "stdout",
     "output_type": "stream",
     "text": [
      "Plotting labels to C:\\Users\\monom\\Documents\\Programming\\PlateScanner\\runs\\detect\\YOLOv813\\labels.jpg... \n",
      "\u001B[34m\u001B[1moptimizer:\u001B[0m 'optimizer=auto' found, ignoring 'lr0=0.01' and 'momentum=0.937' and determining best 'optimizer', 'lr0' and 'momentum' automatically... \n",
      "\u001B[34m\u001B[1moptimizer:\u001B[0m AdamW(lr=0.002, momentum=0.9) with parameter groups 63 weight(decay=0.0), 70 weight(decay=0.0005), 69 bias(decay=0.0)\n"
     ]
    },
    {
     "ename": "UnsupportedModelRegistryStoreURIException",
     "evalue": " Model registry functionality is unavailable; got unsupported URI 'C:\\Users\\monom\\Documents\\Programming\\PlateScanner\\runs\\mlflow' for model registry data storage. Supported URI schemes are: ['', 'file', 'databricks', 'databricks-uc', 'uc', 'http', 'https', 'postgresql', 'mysql', 'sqlite', 'mssql']. See https://www.mlflow.org/docs/latest/tracking.html#storage for how to run an MLflow server against one of the supported backend storage locations.",
     "output_type": "error",
     "traceback": [
      "\u001B[1;31m---------------------------------------------------------------------------\u001B[0m",
      "\u001B[1;31mKeyError\u001B[0m                                  Traceback (most recent call last)",
      "File \u001B[1;32m~\\Documents\\Programming\\PlateScanner\\.venv\\Lib\\site-packages\\mlflow\\tracking\\registry.py:82\u001B[0m, in \u001B[0;36mStoreRegistry.get_store_builder\u001B[1;34m(self, store_uri)\u001B[0m\n\u001B[0;32m     81\u001B[0m \u001B[38;5;28;01mtry\u001B[39;00m:\n\u001B[1;32m---> 82\u001B[0m     store_builder \u001B[38;5;241m=\u001B[39m \u001B[38;5;28;43mself\u001B[39;49m\u001B[38;5;241;43m.\u001B[39;49m\u001B[43m_registry\u001B[49m\u001B[43m[\u001B[49m\u001B[43mscheme\u001B[49m\u001B[43m]\u001B[49m\n\u001B[0;32m     83\u001B[0m \u001B[38;5;28;01mexcept\u001B[39;00m \u001B[38;5;167;01mKeyError\u001B[39;00m:\n",
      "\u001B[1;31mKeyError\u001B[0m: 'c'",
      "\nDuring handling of the above exception, another exception occurred:\n",
      "\u001B[1;31mUnsupportedModelRegistryStoreURIException\u001B[0m Traceback (most recent call last)",
      "Cell \u001B[1;32mIn[30], line 8\u001B[0m\n\u001B[0;32m      7\u001B[0m model \u001B[38;5;241m=\u001B[39m YOLO(\u001B[38;5;124m\"\u001B[39m\u001B[38;5;124myolov8n.pt\u001B[39m\u001B[38;5;124m\"\u001B[39m)\n\u001B[1;32m----> 8\u001B[0m results \u001B[38;5;241m=\u001B[39m \u001B[43mmodel\u001B[49m\u001B[38;5;241;43m.\u001B[39;49m\u001B[43mtrain\u001B[49m\u001B[43m(\u001B[49m\n\u001B[0;32m      9\u001B[0m \u001B[43m    \u001B[49m\u001B[43mdata\u001B[49m\u001B[38;5;241;43m=\u001B[39;49m\u001B[43mconfig\u001B[49m\u001B[43m[\u001B[49m\u001B[38;5;124;43m\"\u001B[39;49m\u001B[38;5;124;43mdata\u001B[39;49m\u001B[38;5;124;43m\"\u001B[39;49m\u001B[43m]\u001B[49m\u001B[43m,\u001B[49m\n\u001B[0;32m     10\u001B[0m \u001B[43m    \u001B[49m\u001B[43mepochs\u001B[49m\u001B[38;5;241;43m=\u001B[39;49m\u001B[43mconfig\u001B[49m\u001B[43m[\u001B[49m\u001B[38;5;124;43m\"\u001B[39;49m\u001B[38;5;124;43mepochs\u001B[39;49m\u001B[38;5;124;43m\"\u001B[39;49m\u001B[43m]\u001B[49m\u001B[43m,\u001B[49m\n\u001B[0;32m     11\u001B[0m \u001B[43m    \u001B[49m\u001B[43mbatch\u001B[49m\u001B[38;5;241;43m=\u001B[39;49m\u001B[43mconfig\u001B[49m\u001B[43m[\u001B[49m\u001B[38;5;124;43m\"\u001B[39;49m\u001B[38;5;124;43mbatch\u001B[39;49m\u001B[38;5;124;43m\"\u001B[39;49m\u001B[43m]\u001B[49m\u001B[43m,\u001B[49m\n\u001B[0;32m     12\u001B[0m \u001B[43m    \u001B[49m\u001B[43mname\u001B[49m\u001B[38;5;241;43m=\u001B[39;49m\u001B[43mconfig\u001B[49m\u001B[43m[\u001B[49m\u001B[38;5;124;43m\"\u001B[39;49m\u001B[38;5;124;43mname\u001B[39;49m\u001B[38;5;124;43m\"\u001B[39;49m\u001B[43m]\u001B[49m\u001B[43m,\u001B[49m\n\u001B[0;32m     13\u001B[0m \u001B[43m    \u001B[49m\u001B[43mimgsz\u001B[49m\u001B[38;5;241;43m=\u001B[39;49m\u001B[43mconfig\u001B[49m\u001B[43m[\u001B[49m\u001B[38;5;124;43m\"\u001B[39;49m\u001B[38;5;124;43mimgsz\u001B[39;49m\u001B[38;5;124;43m\"\u001B[39;49m\u001B[43m]\u001B[49m\u001B[43m,\u001B[49m\n\u001B[0;32m     14\u001B[0m \u001B[43m\u001B[49m\u001B[43m)\u001B[49m\n",
      "File \u001B[1;32m~\\Documents\\Programming\\PlateScanner\\.venv\\Lib\\site-packages\\ultralytics\\engine\\model.py:802\u001B[0m, in \u001B[0;36mModel.train\u001B[1;34m(self, trainer, **kwargs)\u001B[0m\n\u001B[0;32m    801\u001B[0m \u001B[38;5;28mself\u001B[39m\u001B[38;5;241m.\u001B[39mtrainer\u001B[38;5;241m.\u001B[39mhub_session \u001B[38;5;241m=\u001B[39m \u001B[38;5;28mself\u001B[39m\u001B[38;5;241m.\u001B[39msession  \u001B[38;5;66;03m# attach optional HUB session\u001B[39;00m\n\u001B[1;32m--> 802\u001B[0m \u001B[38;5;28;43mself\u001B[39;49m\u001B[38;5;241;43m.\u001B[39;49m\u001B[43mtrainer\u001B[49m\u001B[38;5;241;43m.\u001B[39;49m\u001B[43mtrain\u001B[49m\u001B[43m(\u001B[49m\u001B[43m)\u001B[49m\n\u001B[0;32m    803\u001B[0m \u001B[38;5;66;03m# Update model and cfg after training\u001B[39;00m\n",
      "File \u001B[1;32m~\\Documents\\Programming\\PlateScanner\\.venv\\Lib\\site-packages\\ultralytics\\engine\\trainer.py:207\u001B[0m, in \u001B[0;36mBaseTrainer.train\u001B[1;34m(self)\u001B[0m\n\u001B[0;32m    206\u001B[0m \u001B[38;5;28;01melse\u001B[39;00m:\n\u001B[1;32m--> 207\u001B[0m     \u001B[38;5;28;43mself\u001B[39;49m\u001B[38;5;241;43m.\u001B[39;49m\u001B[43m_do_train\u001B[49m\u001B[43m(\u001B[49m\u001B[43mworld_size\u001B[49m\u001B[43m)\u001B[49m\n",
      "File \u001B[1;32m~\\Documents\\Programming\\PlateScanner\\.venv\\Lib\\site-packages\\ultralytics\\engine\\trainer.py:327\u001B[0m, in \u001B[0;36mBaseTrainer._do_train\u001B[1;34m(self, world_size)\u001B[0m\n\u001B[0;32m    326\u001B[0m     \u001B[38;5;28mself\u001B[39m\u001B[38;5;241m.\u001B[39m_setup_ddp(world_size)\n\u001B[1;32m--> 327\u001B[0m \u001B[38;5;28;43mself\u001B[39;49m\u001B[38;5;241;43m.\u001B[39;49m\u001B[43m_setup_train\u001B[49m\u001B[43m(\u001B[49m\u001B[43mworld_size\u001B[49m\u001B[43m)\u001B[49m\n\u001B[0;32m    329\u001B[0m nb \u001B[38;5;241m=\u001B[39m \u001B[38;5;28mlen\u001B[39m(\u001B[38;5;28mself\u001B[39m\u001B[38;5;241m.\u001B[39mtrain_loader)  \u001B[38;5;66;03m# number of batches\u001B[39;00m\n",
      "File \u001B[1;32m~\\Documents\\Programming\\PlateScanner\\.venv\\Lib\\site-packages\\ultralytics\\engine\\trainer.py:321\u001B[0m, in \u001B[0;36mBaseTrainer._setup_train\u001B[1;34m(self, world_size)\u001B[0m\n\u001B[0;32m    320\u001B[0m \u001B[38;5;28mself\u001B[39m\u001B[38;5;241m.\u001B[39mscheduler\u001B[38;5;241m.\u001B[39mlast_epoch \u001B[38;5;241m=\u001B[39m \u001B[38;5;28mself\u001B[39m\u001B[38;5;241m.\u001B[39mstart_epoch \u001B[38;5;241m-\u001B[39m \u001B[38;5;241m1\u001B[39m  \u001B[38;5;66;03m# do not move\u001B[39;00m\n\u001B[1;32m--> 321\u001B[0m \u001B[38;5;28;43mself\u001B[39;49m\u001B[38;5;241;43m.\u001B[39;49m\u001B[43mrun_callbacks\u001B[49m\u001B[43m(\u001B[49m\u001B[38;5;124;43m\"\u001B[39;49m\u001B[38;5;124;43mon_pretrain_routine_end\u001B[39;49m\u001B[38;5;124;43m\"\u001B[39;49m\u001B[43m)\u001B[49m\n",
      "File \u001B[1;32m~\\Documents\\Programming\\PlateScanner\\.venv\\Lib\\site-packages\\ultralytics\\engine\\trainer.py:168\u001B[0m, in \u001B[0;36mBaseTrainer.run_callbacks\u001B[1;34m(self, event)\u001B[0m\n\u001B[0;32m    167\u001B[0m \u001B[38;5;28;01mfor\u001B[39;00m callback \u001B[38;5;129;01min\u001B[39;00m \u001B[38;5;28mself\u001B[39m\u001B[38;5;241m.\u001B[39mcallbacks\u001B[38;5;241m.\u001B[39mget(event, []):\n\u001B[1;32m--> 168\u001B[0m     \u001B[43mcallback\u001B[49m\u001B[43m(\u001B[49m\u001B[38;5;28;43mself\u001B[39;49m\u001B[43m)\u001B[49m\n",
      "File \u001B[1;32m~\\Documents\\Programming\\PlateScanner\\.venv\\Lib\\site-packages\\ultralytics\\utils\\callbacks\\mlflow.py:76\u001B[0m, in \u001B[0;36mon_pretrain_routine_end\u001B[1;34m(trainer)\u001B[0m\n\u001B[0;32m     75\u001B[0m run_name \u001B[38;5;241m=\u001B[39m os\u001B[38;5;241m.\u001B[39menviron\u001B[38;5;241m.\u001B[39mget(\u001B[38;5;124m\"\u001B[39m\u001B[38;5;124mMLFLOW_RUN\u001B[39m\u001B[38;5;124m\"\u001B[39m) \u001B[38;5;129;01mor\u001B[39;00m trainer\u001B[38;5;241m.\u001B[39margs\u001B[38;5;241m.\u001B[39mname\n\u001B[1;32m---> 76\u001B[0m \u001B[43mmlflow\u001B[49m\u001B[38;5;241;43m.\u001B[39;49m\u001B[43mset_experiment\u001B[49m\u001B[43m(\u001B[49m\u001B[43mexperiment_name\u001B[49m\u001B[43m)\u001B[49m\n\u001B[0;32m     78\u001B[0m mlflow\u001B[38;5;241m.\u001B[39mautolog()\n",
      "File \u001B[1;32m~\\Documents\\Programming\\PlateScanner\\.venv\\Lib\\site-packages\\mlflow\\tracking\\fluent.py:143\u001B[0m, in \u001B[0;36mset_experiment\u001B[1;34m(experiment_name, experiment_id)\u001B[0m\n\u001B[0;32m    138\u001B[0m     \u001B[38;5;28;01mraise\u001B[39;00m MlflowException(\n\u001B[0;32m    139\u001B[0m         message\u001B[38;5;241m=\u001B[39m\u001B[38;5;124m\"\u001B[39m\u001B[38;5;124mMust specify exactly one of: `experiment_id` or `experiment_name`.\u001B[39m\u001B[38;5;124m\"\u001B[39m,\n\u001B[0;32m    140\u001B[0m         error_code\u001B[38;5;241m=\u001B[39mINVALID_PARAMETER_VALUE,\n\u001B[0;32m    141\u001B[0m     )\n\u001B[1;32m--> 143\u001B[0m client \u001B[38;5;241m=\u001B[39m \u001B[43mMlflowClient\u001B[49m\u001B[43m(\u001B[49m\u001B[43m)\u001B[49m\n\u001B[0;32m    144\u001B[0m \u001B[38;5;28;01mif\u001B[39;00m experiment_id \u001B[38;5;129;01mis\u001B[39;00m \u001B[38;5;28;01mNone\u001B[39;00m:\n",
      "File \u001B[1;32m~\\Documents\\Programming\\PlateScanner\\.venv\\Lib\\site-packages\\mlflow\\tracking\\client.py:133\u001B[0m, in \u001B[0;36mMlflowClient.__init__\u001B[1;34m(self, tracking_uri, registry_uri)\u001B[0m\n\u001B[0;32m    132\u001B[0m \u001B[38;5;28mself\u001B[39m\u001B[38;5;241m.\u001B[39m_registry_uri \u001B[38;5;241m=\u001B[39m registry_utils\u001B[38;5;241m.\u001B[39m_resolve_registry_uri(registry_uri, tracking_uri)\n\u001B[1;32m--> 133\u001B[0m \u001B[38;5;28mself\u001B[39m\u001B[38;5;241m.\u001B[39m_tracking_client \u001B[38;5;241m=\u001B[39m \u001B[43mTrackingServiceClient\u001B[49m\u001B[43m(\u001B[49m\u001B[43mfinal_tracking_uri\u001B[49m\u001B[43m)\u001B[49m\n",
      "File \u001B[1;32m~\\Documents\\Programming\\PlateScanner\\.venv\\Lib\\site-packages\\mlflow\\tracking\\_tracking_service\\client.py:81\u001B[0m, in \u001B[0;36mTrackingServiceClient.__init__\u001B[1;34m(self, tracking_uri)\u001B[0m\n\u001B[0;32m     77\u001B[0m \u001B[38;5;66;03m# NB: Fetch the tracking store (`self.store`) upon client initialization to ensure that\u001B[39;00m\n\u001B[0;32m     78\u001B[0m \u001B[38;5;66;03m# the tracking URI is valid and the store can be properly resolved. We define `store` as a\u001B[39;00m\n\u001B[0;32m     79\u001B[0m \u001B[38;5;66;03m# property method to ensure that the client is serializable, even if the store is not\u001B[39;00m\n\u001B[0;32m     80\u001B[0m \u001B[38;5;66;03m# self.store\u001B[39;00m\n\u001B[1;32m---> 81\u001B[0m \u001B[38;5;28;43mself\u001B[39;49m\u001B[38;5;241;43m.\u001B[39;49m\u001B[43mstore\u001B[49m\n",
      "File \u001B[1;32m~\\Documents\\Programming\\PlateScanner\\.venv\\Lib\\site-packages\\mlflow\\tracking\\_tracking_service\\client.py:85\u001B[0m, in \u001B[0;36mTrackingServiceClient.store\u001B[1;34m(self)\u001B[0m\n\u001B[0;32m     83\u001B[0m \u001B[38;5;129m@property\u001B[39m\n\u001B[0;32m     84\u001B[0m \u001B[38;5;28;01mdef\u001B[39;00m \u001B[38;5;21mstore\u001B[39m(\u001B[38;5;28mself\u001B[39m):\n\u001B[1;32m---> 85\u001B[0m     \u001B[38;5;28;01mreturn\u001B[39;00m \u001B[43mutils\u001B[49m\u001B[38;5;241;43m.\u001B[39;49m\u001B[43m_get_store\u001B[49m\u001B[43m(\u001B[49m\u001B[38;5;28;43mself\u001B[39;49m\u001B[38;5;241;43m.\u001B[39;49m\u001B[43mtracking_uri\u001B[49m\u001B[43m)\u001B[49m\n",
      "File \u001B[1;32m~\\Documents\\Programming\\PlateScanner\\.venv\\Lib\\site-packages\\mlflow\\tracking\\_tracking_service\\utils.py:208\u001B[0m, in \u001B[0;36m_get_store\u001B[1;34m(store_uri, artifact_uri)\u001B[0m\n\u001B[0;32m    207\u001B[0m \u001B[38;5;28;01mdef\u001B[39;00m \u001B[38;5;21m_get_store\u001B[39m(store_uri\u001B[38;5;241m=\u001B[39m\u001B[38;5;28;01mNone\u001B[39;00m, artifact_uri\u001B[38;5;241m=\u001B[39m\u001B[38;5;28;01mNone\u001B[39;00m):\n\u001B[1;32m--> 208\u001B[0m     \u001B[38;5;28;01mreturn\u001B[39;00m \u001B[43m_tracking_store_registry\u001B[49m\u001B[38;5;241;43m.\u001B[39;49m\u001B[43mget_store\u001B[49m\u001B[43m(\u001B[49m\u001B[43mstore_uri\u001B[49m\u001B[43m,\u001B[49m\u001B[43m \u001B[49m\u001B[43martifact_uri\u001B[49m\u001B[43m)\u001B[49m\n",
      "File \u001B[1;32m~\\Documents\\Programming\\PlateScanner\\.venv\\Lib\\site-packages\\mlflow\\tracking\\_tracking_service\\registry.py:42\u001B[0m, in \u001B[0;36mTrackingStoreRegistry.get_store\u001B[1;34m(self, store_uri, artifact_uri)\u001B[0m\n\u001B[0;32m     41\u001B[0m resolved_store_uri \u001B[38;5;241m=\u001B[39m utils\u001B[38;5;241m.\u001B[39m_resolve_tracking_uri(store_uri)\n\u001B[1;32m---> 42\u001B[0m \u001B[38;5;28;01mreturn\u001B[39;00m \u001B[38;5;28;43mself\u001B[39;49m\u001B[38;5;241;43m.\u001B[39;49m\u001B[43m_get_store_with_resolved_uri\u001B[49m\u001B[43m(\u001B[49m\u001B[43mresolved_store_uri\u001B[49m\u001B[43m,\u001B[49m\u001B[43m \u001B[49m\u001B[43martifact_uri\u001B[49m\u001B[43m)\u001B[49m\n",
      "File \u001B[1;32m~\\Documents\\Programming\\PlateScanner\\.venv\\Lib\\site-packages\\mlflow\\tracking\\_tracking_service\\registry.py:51\u001B[0m, in \u001B[0;36mTrackingStoreRegistry._get_store_with_resolved_uri\u001B[1;34m(self, resolved_store_uri, artifact_uri)\u001B[0m\n\u001B[0;32m     46\u001B[0m \u001B[38;5;250m\u001B[39m\u001B[38;5;124;03m\"\"\"\u001B[39;00m\n\u001B[0;32m     47\u001B[0m \u001B[38;5;124;03mRetrieve the store associated with a resolved (non-None) store URI and an artifact URI.\u001B[39;00m\n\u001B[0;32m     48\u001B[0m \u001B[38;5;124;03mCaching is done on resolved URIs because the meaning of an unresolved (None) URI may change\u001B[39;00m\n\u001B[0;32m     49\u001B[0m \u001B[38;5;124;03mdepending on external configuration, such as environment variables\u001B[39;00m\n\u001B[0;32m     50\u001B[0m \u001B[38;5;124;03m\"\"\"\u001B[39;00m\n\u001B[1;32m---> 51\u001B[0m builder \u001B[38;5;241m=\u001B[39m \u001B[38;5;28;43mself\u001B[39;49m\u001B[38;5;241;43m.\u001B[39;49m\u001B[43mget_store_builder\u001B[49m\u001B[43m(\u001B[49m\u001B[43mresolved_store_uri\u001B[49m\u001B[43m)\u001B[49m\n\u001B[0;32m     52\u001B[0m \u001B[38;5;28;01mreturn\u001B[39;00m builder(store_uri\u001B[38;5;241m=\u001B[39mresolved_store_uri, artifact_uri\u001B[38;5;241m=\u001B[39martifact_uri)\n",
      "File \u001B[1;32m~\\Documents\\Programming\\PlateScanner\\.venv\\Lib\\site-packages\\mlflow\\tracking\\registry.py:84\u001B[0m, in \u001B[0;36mStoreRegistry.get_store_builder\u001B[1;34m(self, store_uri)\u001B[0m\n\u001B[0;32m     83\u001B[0m \u001B[38;5;28;01mexcept\u001B[39;00m \u001B[38;5;167;01mKeyError\u001B[39;00m:\n\u001B[1;32m---> 84\u001B[0m     \u001B[38;5;28;01mraise\u001B[39;00m UnsupportedModelRegistryStoreURIException(\n\u001B[0;32m     85\u001B[0m         unsupported_uri\u001B[38;5;241m=\u001B[39mstore_uri, supported_uri_schemes\u001B[38;5;241m=\u001B[39m\u001B[38;5;28mlist\u001B[39m(\u001B[38;5;28mself\u001B[39m\u001B[38;5;241m.\u001B[39m_registry\u001B[38;5;241m.\u001B[39mkeys())\n\u001B[0;32m     86\u001B[0m     )\n\u001B[0;32m     87\u001B[0m \u001B[38;5;28;01mreturn\u001B[39;00m store_builder\n",
      "\u001B[1;31mUnsupportedModelRegistryStoreURIException\u001B[0m:  Model registry functionality is unavailable; got unsupported URI 'C:\\Users\\monom\\Documents\\Programming\\PlateScanner\\runs\\mlflow' for model registry data storage. Supported URI schemes are: ['', 'file', 'databricks', 'databricks-uc', 'uc', 'http', 'https', 'postgresql', 'mysql', 'sqlite', 'mssql']. See https://www.mlflow.org/docs/latest/tracking.html#storage for how to run an MLflow server against one of the supported backend storage locations.",
      "\nDuring handling of the above exception, another exception occurred:\n",
      "\u001B[1;31mKeyError\u001B[0m                                  Traceback (most recent call last)",
      "File \u001B[1;32m~\\Documents\\Programming\\PlateScanner\\.venv\\Lib\\site-packages\\mlflow\\tracking\\registry.py:82\u001B[0m, in \u001B[0;36mStoreRegistry.get_store_builder\u001B[1;34m(self, store_uri)\u001B[0m\n\u001B[0;32m     81\u001B[0m \u001B[38;5;28;01mtry\u001B[39;00m:\n\u001B[1;32m---> 82\u001B[0m     store_builder \u001B[38;5;241m=\u001B[39m \u001B[38;5;28;43mself\u001B[39;49m\u001B[38;5;241;43m.\u001B[39;49m\u001B[43m_registry\u001B[49m\u001B[43m[\u001B[49m\u001B[43mscheme\u001B[49m\u001B[43m]\u001B[49m\n\u001B[0;32m     83\u001B[0m \u001B[38;5;28;01mexcept\u001B[39;00m \u001B[38;5;167;01mKeyError\u001B[39;00m:\n",
      "\u001B[1;31mKeyError\u001B[0m: 'c'",
      "\nDuring handling of the above exception, another exception occurred:\n",
      "\u001B[1;31mUnsupportedModelRegistryStoreURIException\u001B[0m Traceback (most recent call last)",
      "Cell \u001B[1;32mIn[30], line 6\u001B[0m\n\u001B[0;32m      4\u001B[0m mlflow\u001B[38;5;241m.\u001B[39mset_experiment(experiment_name\u001B[38;5;241m=\u001B[39m\u001B[38;5;124m'\u001B[39m\u001B[38;5;124mMLFlow standalone\u001B[39m\u001B[38;5;124m'\u001B[39m)\n\u001B[0;32m      5\u001B[0m \u001B[38;5;66;03m# Load and train your YOLOv8 model\u001B[39;00m\n\u001B[1;32m----> 6\u001B[0m \u001B[38;5;28;43;01mwith\u001B[39;49;00m\u001B[43m \u001B[49m\u001B[43mmlflow\u001B[49m\u001B[38;5;241;43m.\u001B[39;49m\u001B[43mstart_run\u001B[49m\u001B[43m(\u001B[49m\u001B[43m)\u001B[49m\u001B[43m \u001B[49m\u001B[38;5;28;43;01mas\u001B[39;49;00m\u001B[43m \u001B[49m\u001B[43mrun\u001B[49m\u001B[43m:\u001B[49m\n\u001B[0;32m      7\u001B[0m \u001B[43m    \u001B[49m\u001B[43mmodel\u001B[49m\u001B[43m \u001B[49m\u001B[38;5;241;43m=\u001B[39;49m\u001B[43m \u001B[49m\u001B[43mYOLO\u001B[49m\u001B[43m(\u001B[49m\u001B[38;5;124;43m\"\u001B[39;49m\u001B[38;5;124;43myolov8n.pt\u001B[39;49m\u001B[38;5;124;43m\"\u001B[39;49m\u001B[43m)\u001B[49m\n\u001B[0;32m      8\u001B[0m \u001B[43m    \u001B[49m\u001B[43mresults\u001B[49m\u001B[43m \u001B[49m\u001B[38;5;241;43m=\u001B[39;49m\u001B[43m \u001B[49m\u001B[43mmodel\u001B[49m\u001B[38;5;241;43m.\u001B[39;49m\u001B[43mtrain\u001B[49m\u001B[43m(\u001B[49m\n\u001B[0;32m      9\u001B[0m \u001B[43m        \u001B[49m\u001B[43mdata\u001B[49m\u001B[38;5;241;43m=\u001B[39;49m\u001B[43mconfig\u001B[49m\u001B[43m[\u001B[49m\u001B[38;5;124;43m\"\u001B[39;49m\u001B[38;5;124;43mdata\u001B[39;49m\u001B[38;5;124;43m\"\u001B[39;49m\u001B[43m]\u001B[49m\u001B[43m,\u001B[49m\n\u001B[0;32m     10\u001B[0m \u001B[43m        \u001B[49m\u001B[43mepochs\u001B[49m\u001B[38;5;241;43m=\u001B[39;49m\u001B[43mconfig\u001B[49m\u001B[43m[\u001B[49m\u001B[38;5;124;43m\"\u001B[39;49m\u001B[38;5;124;43mepochs\u001B[39;49m\u001B[38;5;124;43m\"\u001B[39;49m\u001B[43m]\u001B[49m\u001B[43m,\u001B[49m\n\u001B[1;32m   (...)\u001B[0m\n\u001B[0;32m     13\u001B[0m \u001B[43m        \u001B[49m\u001B[43mimgsz\u001B[49m\u001B[38;5;241;43m=\u001B[39;49m\u001B[43mconfig\u001B[49m\u001B[43m[\u001B[49m\u001B[38;5;124;43m\"\u001B[39;49m\u001B[38;5;124;43mimgsz\u001B[39;49m\u001B[38;5;124;43m\"\u001B[39;49m\u001B[43m]\u001B[49m\u001B[43m,\u001B[49m\n\u001B[0;32m     14\u001B[0m \u001B[43m    \u001B[49m\u001B[43m)\u001B[49m\n",
      "File \u001B[1;32m~\\Documents\\Programming\\PlateScanner\\.venv\\Lib\\site-packages\\mlflow\\tracking\\fluent.py:200\u001B[0m, in \u001B[0;36mActiveRun.__exit__\u001B[1;34m(self, exc_type, exc_val, exc_tb)\u001B[0m\n\u001B[0;32m    198\u001B[0m \u001B[38;5;28;01mdef\u001B[39;00m \u001B[38;5;21m__exit__\u001B[39m(\u001B[38;5;28mself\u001B[39m, exc_type, exc_val, exc_tb):\n\u001B[0;32m    199\u001B[0m     status \u001B[38;5;241m=\u001B[39m RunStatus\u001B[38;5;241m.\u001B[39mFINISHED \u001B[38;5;28;01mif\u001B[39;00m exc_type \u001B[38;5;129;01mis\u001B[39;00m \u001B[38;5;28;01mNone\u001B[39;00m \u001B[38;5;28;01melse\u001B[39;00m RunStatus\u001B[38;5;241m.\u001B[39mFAILED\n\u001B[1;32m--> 200\u001B[0m     \u001B[43mend_run\u001B[49m\u001B[43m(\u001B[49m\u001B[43mRunStatus\u001B[49m\u001B[38;5;241;43m.\u001B[39;49m\u001B[43mto_string\u001B[49m\u001B[43m(\u001B[49m\u001B[43mstatus\u001B[49m\u001B[43m)\u001B[49m\u001B[43m)\u001B[49m\n\u001B[0;32m    201\u001B[0m     \u001B[38;5;28;01mreturn\u001B[39;00m exc_type \u001B[38;5;129;01mis\u001B[39;00m \u001B[38;5;28;01mNone\u001B[39;00m\n",
      "File \u001B[1;32m~\\Documents\\Programming\\PlateScanner\\.venv\\Lib\\site-packages\\mlflow\\tracking\\fluent.py:492\u001B[0m, in \u001B[0;36mend_run\u001B[1;34m(status)\u001B[0m\n\u001B[0;32m    490\u001B[0m run \u001B[38;5;241m=\u001B[39m _active_run_stack\u001B[38;5;241m.\u001B[39mpop()\n\u001B[0;32m    491\u001B[0m _last_active_run_id \u001B[38;5;241m=\u001B[39m run\u001B[38;5;241m.\u001B[39minfo\u001B[38;5;241m.\u001B[39mrun_id\n\u001B[1;32m--> 492\u001B[0m \u001B[43mMlflowClient\u001B[49m\u001B[43m(\u001B[49m\u001B[43m)\u001B[49m\u001B[38;5;241m.\u001B[39mset_terminated(_last_active_run_id, status)\n\u001B[0;32m    493\u001B[0m \u001B[38;5;28;01mif\u001B[39;00m _last_active_run_id \u001B[38;5;129;01min\u001B[39;00m run_id_to_system_metrics_monitor:\n\u001B[0;32m    494\u001B[0m     system_metrics_monitor \u001B[38;5;241m=\u001B[39m run_id_to_system_metrics_monitor\u001B[38;5;241m.\u001B[39mpop(_last_active_run_id)\n",
      "File \u001B[1;32m~\\Documents\\Programming\\PlateScanner\\.venv\\Lib\\site-packages\\mlflow\\tracking\\client.py:133\u001B[0m, in \u001B[0;36mMlflowClient.__init__\u001B[1;34m(self, tracking_uri, registry_uri)\u001B[0m\n\u001B[0;32m    131\u001B[0m final_tracking_uri \u001B[38;5;241m=\u001B[39m utils\u001B[38;5;241m.\u001B[39m_resolve_tracking_uri(tracking_uri)\n\u001B[0;32m    132\u001B[0m \u001B[38;5;28mself\u001B[39m\u001B[38;5;241m.\u001B[39m_registry_uri \u001B[38;5;241m=\u001B[39m registry_utils\u001B[38;5;241m.\u001B[39m_resolve_registry_uri(registry_uri, tracking_uri)\n\u001B[1;32m--> 133\u001B[0m \u001B[38;5;28mself\u001B[39m\u001B[38;5;241m.\u001B[39m_tracking_client \u001B[38;5;241m=\u001B[39m \u001B[43mTrackingServiceClient\u001B[49m\u001B[43m(\u001B[49m\u001B[43mfinal_tracking_uri\u001B[49m\u001B[43m)\u001B[49m\n",
      "File \u001B[1;32m~\\Documents\\Programming\\PlateScanner\\.venv\\Lib\\site-packages\\mlflow\\tracking\\_tracking_service\\client.py:81\u001B[0m, in \u001B[0;36mTrackingServiceClient.__init__\u001B[1;34m(self, tracking_uri)\u001B[0m\n\u001B[0;32m     76\u001B[0m \u001B[38;5;28mself\u001B[39m\u001B[38;5;241m.\u001B[39mtracking_uri \u001B[38;5;241m=\u001B[39m tracking_uri\n\u001B[0;32m     77\u001B[0m \u001B[38;5;66;03m# NB: Fetch the tracking store (`self.store`) upon client initialization to ensure that\u001B[39;00m\n\u001B[0;32m     78\u001B[0m \u001B[38;5;66;03m# the tracking URI is valid and the store can be properly resolved. We define `store` as a\u001B[39;00m\n\u001B[0;32m     79\u001B[0m \u001B[38;5;66;03m# property method to ensure that the client is serializable, even if the store is not\u001B[39;00m\n\u001B[0;32m     80\u001B[0m \u001B[38;5;66;03m# self.store\u001B[39;00m\n\u001B[1;32m---> 81\u001B[0m \u001B[38;5;28;43mself\u001B[39;49m\u001B[38;5;241;43m.\u001B[39;49m\u001B[43mstore\u001B[49m\n",
      "File \u001B[1;32m~\\Documents\\Programming\\PlateScanner\\.venv\\Lib\\site-packages\\mlflow\\tracking\\_tracking_service\\client.py:85\u001B[0m, in \u001B[0;36mTrackingServiceClient.store\u001B[1;34m(self)\u001B[0m\n\u001B[0;32m     83\u001B[0m \u001B[38;5;129m@property\u001B[39m\n\u001B[0;32m     84\u001B[0m \u001B[38;5;28;01mdef\u001B[39;00m \u001B[38;5;21mstore\u001B[39m(\u001B[38;5;28mself\u001B[39m):\n\u001B[1;32m---> 85\u001B[0m     \u001B[38;5;28;01mreturn\u001B[39;00m \u001B[43mutils\u001B[49m\u001B[38;5;241;43m.\u001B[39;49m\u001B[43m_get_store\u001B[49m\u001B[43m(\u001B[49m\u001B[38;5;28;43mself\u001B[39;49m\u001B[38;5;241;43m.\u001B[39;49m\u001B[43mtracking_uri\u001B[49m\u001B[43m)\u001B[49m\n",
      "File \u001B[1;32m~\\Documents\\Programming\\PlateScanner\\.venv\\Lib\\site-packages\\mlflow\\tracking\\_tracking_service\\utils.py:208\u001B[0m, in \u001B[0;36m_get_store\u001B[1;34m(store_uri, artifact_uri)\u001B[0m\n\u001B[0;32m    207\u001B[0m \u001B[38;5;28;01mdef\u001B[39;00m \u001B[38;5;21m_get_store\u001B[39m(store_uri\u001B[38;5;241m=\u001B[39m\u001B[38;5;28;01mNone\u001B[39;00m, artifact_uri\u001B[38;5;241m=\u001B[39m\u001B[38;5;28;01mNone\u001B[39;00m):\n\u001B[1;32m--> 208\u001B[0m     \u001B[38;5;28;01mreturn\u001B[39;00m \u001B[43m_tracking_store_registry\u001B[49m\u001B[38;5;241;43m.\u001B[39;49m\u001B[43mget_store\u001B[49m\u001B[43m(\u001B[49m\u001B[43mstore_uri\u001B[49m\u001B[43m,\u001B[49m\u001B[43m \u001B[49m\u001B[43martifact_uri\u001B[49m\u001B[43m)\u001B[49m\n",
      "File \u001B[1;32m~\\Documents\\Programming\\PlateScanner\\.venv\\Lib\\site-packages\\mlflow\\tracking\\_tracking_service\\registry.py:42\u001B[0m, in \u001B[0;36mTrackingStoreRegistry.get_store\u001B[1;34m(self, store_uri, artifact_uri)\u001B[0m\n\u001B[0;32m     39\u001B[0m \u001B[38;5;28;01mfrom\u001B[39;00m \u001B[38;5;21;01mmlflow\u001B[39;00m\u001B[38;5;21;01m.\u001B[39;00m\u001B[38;5;21;01mtracking\u001B[39;00m\u001B[38;5;21;01m.\u001B[39;00m\u001B[38;5;21;01m_tracking_service\u001B[39;00m \u001B[38;5;28;01mimport\u001B[39;00m utils\n\u001B[0;32m     41\u001B[0m resolved_store_uri \u001B[38;5;241m=\u001B[39m utils\u001B[38;5;241m.\u001B[39m_resolve_tracking_uri(store_uri)\n\u001B[1;32m---> 42\u001B[0m \u001B[38;5;28;01mreturn\u001B[39;00m \u001B[38;5;28;43mself\u001B[39;49m\u001B[38;5;241;43m.\u001B[39;49m\u001B[43m_get_store_with_resolved_uri\u001B[49m\u001B[43m(\u001B[49m\u001B[43mresolved_store_uri\u001B[49m\u001B[43m,\u001B[49m\u001B[43m \u001B[49m\u001B[43martifact_uri\u001B[49m\u001B[43m)\u001B[49m\n",
      "File \u001B[1;32m~\\Documents\\Programming\\PlateScanner\\.venv\\Lib\\site-packages\\mlflow\\tracking\\_tracking_service\\registry.py:51\u001B[0m, in \u001B[0;36mTrackingStoreRegistry._get_store_with_resolved_uri\u001B[1;34m(self, resolved_store_uri, artifact_uri)\u001B[0m\n\u001B[0;32m     44\u001B[0m \u001B[38;5;129m@lru_cache\u001B[39m(maxsize\u001B[38;5;241m=\u001B[39m\u001B[38;5;241m100\u001B[39m)\n\u001B[0;32m     45\u001B[0m \u001B[38;5;28;01mdef\u001B[39;00m \u001B[38;5;21m_get_store_with_resolved_uri\u001B[39m(\u001B[38;5;28mself\u001B[39m, resolved_store_uri, artifact_uri\u001B[38;5;241m=\u001B[39m\u001B[38;5;28;01mNone\u001B[39;00m):\n\u001B[0;32m     46\u001B[0m \u001B[38;5;250m    \u001B[39m\u001B[38;5;124;03m\"\"\"\u001B[39;00m\n\u001B[0;32m     47\u001B[0m \u001B[38;5;124;03m    Retrieve the store associated with a resolved (non-None) store URI and an artifact URI.\u001B[39;00m\n\u001B[0;32m     48\u001B[0m \u001B[38;5;124;03m    Caching is done on resolved URIs because the meaning of an unresolved (None) URI may change\u001B[39;00m\n\u001B[0;32m     49\u001B[0m \u001B[38;5;124;03m    depending on external configuration, such as environment variables\u001B[39;00m\n\u001B[0;32m     50\u001B[0m \u001B[38;5;124;03m    \"\"\"\u001B[39;00m\n\u001B[1;32m---> 51\u001B[0m     builder \u001B[38;5;241m=\u001B[39m \u001B[38;5;28;43mself\u001B[39;49m\u001B[38;5;241;43m.\u001B[39;49m\u001B[43mget_store_builder\u001B[49m\u001B[43m(\u001B[49m\u001B[43mresolved_store_uri\u001B[49m\u001B[43m)\u001B[49m\n\u001B[0;32m     52\u001B[0m     \u001B[38;5;28;01mreturn\u001B[39;00m builder(store_uri\u001B[38;5;241m=\u001B[39mresolved_store_uri, artifact_uri\u001B[38;5;241m=\u001B[39martifact_uri)\n",
      "File \u001B[1;32m~\\Documents\\Programming\\PlateScanner\\.venv\\Lib\\site-packages\\mlflow\\tracking\\registry.py:84\u001B[0m, in \u001B[0;36mStoreRegistry.get_store_builder\u001B[1;34m(self, store_uri)\u001B[0m\n\u001B[0;32m     82\u001B[0m     store_builder \u001B[38;5;241m=\u001B[39m \u001B[38;5;28mself\u001B[39m\u001B[38;5;241m.\u001B[39m_registry[scheme]\n\u001B[0;32m     83\u001B[0m \u001B[38;5;28;01mexcept\u001B[39;00m \u001B[38;5;167;01mKeyError\u001B[39;00m:\n\u001B[1;32m---> 84\u001B[0m     \u001B[38;5;28;01mraise\u001B[39;00m UnsupportedModelRegistryStoreURIException(\n\u001B[0;32m     85\u001B[0m         unsupported_uri\u001B[38;5;241m=\u001B[39mstore_uri, supported_uri_schemes\u001B[38;5;241m=\u001B[39m\u001B[38;5;28mlist\u001B[39m(\u001B[38;5;28mself\u001B[39m\u001B[38;5;241m.\u001B[39m_registry\u001B[38;5;241m.\u001B[39mkeys())\n\u001B[0;32m     86\u001B[0m     )\n\u001B[0;32m     87\u001B[0m \u001B[38;5;28;01mreturn\u001B[39;00m store_builder\n",
      "\u001B[1;31mUnsupportedModelRegistryStoreURIException\u001B[0m:  Model registry functionality is unavailable; got unsupported URI 'C:\\Users\\monom\\Documents\\Programming\\PlateScanner\\runs\\mlflow' for model registry data storage. Supported URI schemes are: ['', 'file', 'databricks', 'databricks-uc', 'uc', 'http', 'https', 'postgresql', 'mysql', 'sqlite', 'mssql']. See https://www.mlflow.org/docs/latest/tracking.html#storage for how to run an MLflow server against one of the supported backend storage locations."
     ]
    }
   ],
   "execution_count": 30
  },
  {
   "metadata": {
    "ExecuteTime": {
     "end_time": "2024-10-05T11:36:07.563640Z",
     "start_time": "2024-10-05T11:36:07.560033Z"
    }
   },
   "cell_type": "code",
   "source": [
    "\n",
    "settings.update({\"mlflow\": False})\n",
    "mlflow.ande"
   ],
   "id": "2aa307e54185626d",
   "outputs": [],
   "execution_count": 37
  },
  {
   "metadata": {
    "ExecuteTime": {
     "end_time": "2024-10-05T11:40:12.935711Z",
     "start_time": "2024-10-05T11:36:08.417948Z"
    }
   },
   "cell_type": "code",
   "source": [
    "model = YOLO(\"yolov8n.pt\")\n",
    "results = model.train(\n",
    "    data=config[\"data\"],\n",
    "    epochs=config[\"epochs\"],\n",
    "    batch=config[\"batch\"],\n",
    "    name=config[\"name\"],\n",
    "    imgsz=config[\"imgsz\"],\n",
    ")"
   ],
   "id": "9a10d1c6f1979dcf",
   "outputs": [
    {
     "name": "stdout",
     "output_type": "stream",
     "text": [
      "New https://pypi.org/project/ultralytics/8.3.5 available  Update with 'pip install -U ultralytics'\n",
      "Ultralytics 8.3.3  Python-3.12.5 torch-2.4.1+cu124 CUDA:0 (NVIDIA GeForce RTX 3060 Laptop GPU, 6144MiB)\n",
      "\u001B[34m\u001B[1mengine\\trainer: \u001B[0mtask=detect, mode=train, model=yolov8n.pt, data=C:\\Users\\monom\\Documents\\Programming\\PlateScanner\\airflow\\dataset\\detection\\data_1_RC_Y_718_307_2\\data.yaml, epochs=1, time=None, patience=100, batch=8, imgsz=1280, save=True, save_period=-1, cache=False, device=None, workers=8, project=None, name=YOLOv815, exist_ok=False, pretrained=True, optimizer=auto, verbose=True, seed=0, deterministic=True, single_cls=False, rect=False, cos_lr=False, close_mosaic=10, resume=False, amp=True, fraction=1.0, profile=False, freeze=None, multi_scale=False, overlap_mask=True, mask_ratio=4, dropout=0.0, val=True, split=val, save_json=False, save_hybrid=False, conf=None, iou=0.7, max_det=300, half=False, dnn=False, plots=True, source=None, vid_stride=1, stream_buffer=False, visualize=False, augment=False, agnostic_nms=False, classes=None, retina_masks=False, embed=None, show=False, save_frames=False, save_txt=False, save_conf=False, save_crop=False, show_labels=True, show_conf=True, show_boxes=True, line_width=None, format=torchscript, keras=False, optimize=False, int8=False, dynamic=False, simplify=True, opset=None, workspace=4, nms=False, lr0=0.01, lrf=0.01, momentum=0.937, weight_decay=0.0005, warmup_epochs=3.0, warmup_momentum=0.8, warmup_bias_lr=0.1, box=7.5, cls=0.5, dfl=1.5, pose=12.0, kobj=1.0, label_smoothing=0.0, nbs=64, hsv_h=0.015, hsv_s=0.7, hsv_v=0.4, degrees=0.0, translate=0.1, scale=0.5, shear=0.0, perspective=0.0, flipud=0.0, fliplr=0.5, bgr=0.0, mosaic=1.0, mixup=0.0, copy_paste=0.0, copy_paste_mode=flip, auto_augment=randaugment, erasing=0.4, crop_fraction=1.0, cfg=None, tracker=botsort.yaml, save_dir=C:\\Users\\monom\\Documents\\Programming\\PlateScanner\\runs\\detect\\YOLOv815\n",
      "Overriding model.yaml nc=80 with nc=1\n",
      "\n",
      "                   from  n    params  module                                       arguments                     \n",
      "  0                  -1  1       464  ultralytics.nn.modules.conv.Conv             [3, 16, 3, 2]                 \n",
      "  1                  -1  1      4672  ultralytics.nn.modules.conv.Conv             [16, 32, 3, 2]                \n",
      "  2                  -1  1      7360  ultralytics.nn.modules.block.C2f             [32, 32, 1, True]             \n",
      "  3                  -1  1     18560  ultralytics.nn.modules.conv.Conv             [32, 64, 3, 2]                \n",
      "  4                  -1  2     49664  ultralytics.nn.modules.block.C2f             [64, 64, 2, True]             \n",
      "  5                  -1  1     73984  ultralytics.nn.modules.conv.Conv             [64, 128, 3, 2]               \n",
      "  6                  -1  2    197632  ultralytics.nn.modules.block.C2f             [128, 128, 2, True]           \n",
      "  7                  -1  1    295424  ultralytics.nn.modules.conv.Conv             [128, 256, 3, 2]              \n",
      "  8                  -1  1    460288  ultralytics.nn.modules.block.C2f             [256, 256, 1, True]           \n",
      "  9                  -1  1    164608  ultralytics.nn.modules.block.SPPF            [256, 256, 5]                 \n",
      " 10                  -1  1         0  torch.nn.modules.upsampling.Upsample         [None, 2, 'nearest']          \n",
      " 11             [-1, 6]  1         0  ultralytics.nn.modules.conv.Concat           [1]                           \n",
      " 12                  -1  1    148224  ultralytics.nn.modules.block.C2f             [384, 128, 1]                 \n",
      " 13                  -1  1         0  torch.nn.modules.upsampling.Upsample         [None, 2, 'nearest']          \n",
      " 14             [-1, 4]  1         0  ultralytics.nn.modules.conv.Concat           [1]                           \n",
      " 15                  -1  1     37248  ultralytics.nn.modules.block.C2f             [192, 64, 1]                  \n",
      " 16                  -1  1     36992  ultralytics.nn.modules.conv.Conv             [64, 64, 3, 2]                \n",
      " 17            [-1, 12]  1         0  ultralytics.nn.modules.conv.Concat           [1]                           \n",
      " 18                  -1  1    123648  ultralytics.nn.modules.block.C2f             [192, 128, 1]                 \n",
      " 19                  -1  1    147712  ultralytics.nn.modules.conv.Conv             [128, 128, 3, 2]              \n",
      " 20             [-1, 9]  1         0  ultralytics.nn.modules.conv.Concat           [1]                           \n",
      " 21                  -1  1    493056  ultralytics.nn.modules.block.C2f             [384, 256, 1]                 \n",
      " 22        [15, 18, 21]  1    430867  ultralytics.nn.modules.head.Detect           [1, [64, 128, 256]]           \n",
      "Model summary: 249 layers, 2,690,403 parameters, 2,690,387 gradients, 6.9 GFLOPs\n",
      "\n",
      "Transferred 313/391 items from pretrained weights\n",
      "Freezing layer 'model.22.dfl.conv.weight'\n",
      "\u001B[34m\u001B[1mAMP: \u001B[0mrunning Automatic Mixed Precision (AMP) checks with YOLO11n...\n",
      "\u001B[34m\u001B[1mAMP: \u001B[0mchecks passed \n"
     ]
    },
    {
     "name": "stderr",
     "output_type": "stream",
     "text": [
      "\u001B[34m\u001B[1mtrain: \u001B[0mScanning C:\\Users\\monom\\Documents\\Programming\\PlateScanner\\airflow\\dataset\\detection\\data_1_RC_Y_718_307_2\\train\\labels.cache... 718 images, 4 backgrounds, 0 corrupt: 100%|██████████| 718/718 [00:00<?, ?it/s]"
     ]
    },
    {
     "name": "stdout",
     "output_type": "stream",
     "text": [
      "WARNING  Box and segment counts should be equal, but got len(segments) = 716, len(boxes) = 721. To resolve this only boxes will be used and all segments will be removed. To avoid this please supply either a detect or segment dataset, not a detect-segment mixed dataset.\n"
     ]
    },
    {
     "name": "stderr",
     "output_type": "stream",
     "text": [
      "\n",
      "\u001B[34m\u001B[1mval: \u001B[0mScanning C:\\Users\\monom\\Documents\\Programming\\PlateScanner\\airflow\\dataset\\detection\\data_1_RC_Y_718_307_2\\valid\\labels.cache... 307 images, 2 backgrounds, 0 corrupt: 100%|██████████| 307/307 [00:00<?, ?it/s]"
     ]
    },
    {
     "name": "stdout",
     "output_type": "stream",
     "text": [
      "WARNING  Box and segment counts should be equal, but got len(segments) = 305, len(boxes) = 307. To resolve this only boxes will be used and all segments will be removed. To avoid this please supply either a detect or segment dataset, not a detect-segment mixed dataset.\n"
     ]
    },
    {
     "name": "stderr",
     "output_type": "stream",
     "text": [
      "\n"
     ]
    },
    {
     "name": "stdout",
     "output_type": "stream",
     "text": [
      "Plotting labels to C:\\Users\\monom\\Documents\\Programming\\PlateScanner\\runs\\detect\\YOLOv815\\labels.jpg... \n",
      "\u001B[34m\u001B[1moptimizer:\u001B[0m 'optimizer=auto' found, ignoring 'lr0=0.01' and 'momentum=0.937' and determining best 'optimizer', 'lr0' and 'momentum' automatically... \n",
      "\u001B[34m\u001B[1moptimizer:\u001B[0m AdamW(lr=0.002, momentum=0.9) with parameter groups 63 weight(decay=0.0), 70 weight(decay=0.0005), 69 bias(decay=0.0)\n"
     ]
    },
    {
     "ename": "UnsupportedModelRegistryStoreURIException",
     "evalue": " Model registry functionality is unavailable; got unsupported URI 'C:\\Users\\monom\\Documents\\Programming\\PlateScanner\\runs\\mlflow' for model registry data storage. Supported URI schemes are: ['', 'file', 'databricks', 'databricks-uc', 'uc', 'http', 'https', 'postgresql', 'mysql', 'sqlite', 'mssql']. See https://www.mlflow.org/docs/latest/tracking.html#storage for how to run an MLflow server against one of the supported backend storage locations.",
     "output_type": "error",
     "traceback": [
      "\u001B[1;31m---------------------------------------------------------------------------\u001B[0m",
      "\u001B[1;31mKeyError\u001B[0m                                  Traceback (most recent call last)",
      "File \u001B[1;32m~\\Documents\\Programming\\PlateScanner\\.venv\\Lib\\site-packages\\mlflow\\tracking\\registry.py:82\u001B[0m, in \u001B[0;36mStoreRegistry.get_store_builder\u001B[1;34m(self, store_uri)\u001B[0m\n\u001B[0;32m     81\u001B[0m \u001B[38;5;28;01mtry\u001B[39;00m:\n\u001B[1;32m---> 82\u001B[0m     store_builder \u001B[38;5;241m=\u001B[39m \u001B[38;5;28;43mself\u001B[39;49m\u001B[38;5;241;43m.\u001B[39;49m\u001B[43m_registry\u001B[49m\u001B[43m[\u001B[49m\u001B[43mscheme\u001B[49m\u001B[43m]\u001B[49m\n\u001B[0;32m     83\u001B[0m \u001B[38;5;28;01mexcept\u001B[39;00m \u001B[38;5;167;01mKeyError\u001B[39;00m:\n",
      "\u001B[1;31mKeyError\u001B[0m: 'c'",
      "\nDuring handling of the above exception, another exception occurred:\n",
      "\u001B[1;31mUnsupportedModelRegistryStoreURIException\u001B[0m Traceback (most recent call last)",
      "Cell \u001B[1;32mIn[38], line 2\u001B[0m\n\u001B[0;32m      1\u001B[0m model \u001B[38;5;241m=\u001B[39m YOLO(\u001B[38;5;124m\"\u001B[39m\u001B[38;5;124myolov8n.pt\u001B[39m\u001B[38;5;124m\"\u001B[39m)\n\u001B[1;32m----> 2\u001B[0m results \u001B[38;5;241m=\u001B[39m \u001B[43mmodel\u001B[49m\u001B[38;5;241;43m.\u001B[39;49m\u001B[43mtrain\u001B[49m\u001B[43m(\u001B[49m\n\u001B[0;32m      3\u001B[0m \u001B[43m    \u001B[49m\u001B[43mdata\u001B[49m\u001B[38;5;241;43m=\u001B[39;49m\u001B[43mconfig\u001B[49m\u001B[43m[\u001B[49m\u001B[38;5;124;43m\"\u001B[39;49m\u001B[38;5;124;43mdata\u001B[39;49m\u001B[38;5;124;43m\"\u001B[39;49m\u001B[43m]\u001B[49m\u001B[43m,\u001B[49m\n\u001B[0;32m      4\u001B[0m \u001B[43m    \u001B[49m\u001B[43mepochs\u001B[49m\u001B[38;5;241;43m=\u001B[39;49m\u001B[43mconfig\u001B[49m\u001B[43m[\u001B[49m\u001B[38;5;124;43m\"\u001B[39;49m\u001B[38;5;124;43mepochs\u001B[39;49m\u001B[38;5;124;43m\"\u001B[39;49m\u001B[43m]\u001B[49m\u001B[43m,\u001B[49m\n\u001B[0;32m      5\u001B[0m \u001B[43m    \u001B[49m\u001B[43mbatch\u001B[49m\u001B[38;5;241;43m=\u001B[39;49m\u001B[43mconfig\u001B[49m\u001B[43m[\u001B[49m\u001B[38;5;124;43m\"\u001B[39;49m\u001B[38;5;124;43mbatch\u001B[39;49m\u001B[38;5;124;43m\"\u001B[39;49m\u001B[43m]\u001B[49m\u001B[43m,\u001B[49m\n\u001B[0;32m      6\u001B[0m \u001B[43m    \u001B[49m\u001B[43mname\u001B[49m\u001B[38;5;241;43m=\u001B[39;49m\u001B[43mconfig\u001B[49m\u001B[43m[\u001B[49m\u001B[38;5;124;43m\"\u001B[39;49m\u001B[38;5;124;43mname\u001B[39;49m\u001B[38;5;124;43m\"\u001B[39;49m\u001B[43m]\u001B[49m\u001B[43m,\u001B[49m\n\u001B[0;32m      7\u001B[0m \u001B[43m    \u001B[49m\u001B[43mimgsz\u001B[49m\u001B[38;5;241;43m=\u001B[39;49m\u001B[43mconfig\u001B[49m\u001B[43m[\u001B[49m\u001B[38;5;124;43m\"\u001B[39;49m\u001B[38;5;124;43mimgsz\u001B[39;49m\u001B[38;5;124;43m\"\u001B[39;49m\u001B[43m]\u001B[49m\u001B[43m,\u001B[49m\n\u001B[0;32m      8\u001B[0m \u001B[43m)\u001B[49m\n",
      "File \u001B[1;32m~\\Documents\\Programming\\PlateScanner\\.venv\\Lib\\site-packages\\ultralytics\\engine\\model.py:802\u001B[0m, in \u001B[0;36mModel.train\u001B[1;34m(self, trainer, **kwargs)\u001B[0m\n\u001B[0;32m    799\u001B[0m     \u001B[38;5;28mself\u001B[39m\u001B[38;5;241m.\u001B[39mmodel \u001B[38;5;241m=\u001B[39m \u001B[38;5;28mself\u001B[39m\u001B[38;5;241m.\u001B[39mtrainer\u001B[38;5;241m.\u001B[39mmodel\n\u001B[0;32m    801\u001B[0m \u001B[38;5;28mself\u001B[39m\u001B[38;5;241m.\u001B[39mtrainer\u001B[38;5;241m.\u001B[39mhub_session \u001B[38;5;241m=\u001B[39m \u001B[38;5;28mself\u001B[39m\u001B[38;5;241m.\u001B[39msession  \u001B[38;5;66;03m# attach optional HUB session\u001B[39;00m\n\u001B[1;32m--> 802\u001B[0m \u001B[38;5;28;43mself\u001B[39;49m\u001B[38;5;241;43m.\u001B[39;49m\u001B[43mtrainer\u001B[49m\u001B[38;5;241;43m.\u001B[39;49m\u001B[43mtrain\u001B[49m\u001B[43m(\u001B[49m\u001B[43m)\u001B[49m\n\u001B[0;32m    803\u001B[0m \u001B[38;5;66;03m# Update model and cfg after training\u001B[39;00m\n\u001B[0;32m    804\u001B[0m \u001B[38;5;28;01mif\u001B[39;00m RANK \u001B[38;5;129;01min\u001B[39;00m {\u001B[38;5;241m-\u001B[39m\u001B[38;5;241m1\u001B[39m, \u001B[38;5;241m0\u001B[39m}:\n",
      "File \u001B[1;32m~\\Documents\\Programming\\PlateScanner\\.venv\\Lib\\site-packages\\ultralytics\\engine\\trainer.py:207\u001B[0m, in \u001B[0;36mBaseTrainer.train\u001B[1;34m(self)\u001B[0m\n\u001B[0;32m    204\u001B[0m         ddp_cleanup(\u001B[38;5;28mself\u001B[39m, \u001B[38;5;28mstr\u001B[39m(file))\n\u001B[0;32m    206\u001B[0m \u001B[38;5;28;01melse\u001B[39;00m:\n\u001B[1;32m--> 207\u001B[0m     \u001B[38;5;28;43mself\u001B[39;49m\u001B[38;5;241;43m.\u001B[39;49m\u001B[43m_do_train\u001B[49m\u001B[43m(\u001B[49m\u001B[43mworld_size\u001B[49m\u001B[43m)\u001B[49m\n",
      "File \u001B[1;32m~\\Documents\\Programming\\PlateScanner\\.venv\\Lib\\site-packages\\ultralytics\\engine\\trainer.py:327\u001B[0m, in \u001B[0;36mBaseTrainer._do_train\u001B[1;34m(self, world_size)\u001B[0m\n\u001B[0;32m    325\u001B[0m \u001B[38;5;28;01mif\u001B[39;00m world_size \u001B[38;5;241m>\u001B[39m \u001B[38;5;241m1\u001B[39m:\n\u001B[0;32m    326\u001B[0m     \u001B[38;5;28mself\u001B[39m\u001B[38;5;241m.\u001B[39m_setup_ddp(world_size)\n\u001B[1;32m--> 327\u001B[0m \u001B[38;5;28;43mself\u001B[39;49m\u001B[38;5;241;43m.\u001B[39;49m\u001B[43m_setup_train\u001B[49m\u001B[43m(\u001B[49m\u001B[43mworld_size\u001B[49m\u001B[43m)\u001B[49m\n\u001B[0;32m    329\u001B[0m nb \u001B[38;5;241m=\u001B[39m \u001B[38;5;28mlen\u001B[39m(\u001B[38;5;28mself\u001B[39m\u001B[38;5;241m.\u001B[39mtrain_loader)  \u001B[38;5;66;03m# number of batches\u001B[39;00m\n\u001B[0;32m    330\u001B[0m nw \u001B[38;5;241m=\u001B[39m \u001B[38;5;28mmax\u001B[39m(\u001B[38;5;28mround\u001B[39m(\u001B[38;5;28mself\u001B[39m\u001B[38;5;241m.\u001B[39margs\u001B[38;5;241m.\u001B[39mwarmup_epochs \u001B[38;5;241m*\u001B[39m nb), \u001B[38;5;241m100\u001B[39m) \u001B[38;5;28;01mif\u001B[39;00m \u001B[38;5;28mself\u001B[39m\u001B[38;5;241m.\u001B[39margs\u001B[38;5;241m.\u001B[39mwarmup_epochs \u001B[38;5;241m>\u001B[39m \u001B[38;5;241m0\u001B[39m \u001B[38;5;28;01melse\u001B[39;00m \u001B[38;5;241m-\u001B[39m\u001B[38;5;241m1\u001B[39m  \u001B[38;5;66;03m# warmup iterations\u001B[39;00m\n",
      "File \u001B[1;32m~\\Documents\\Programming\\PlateScanner\\.venv\\Lib\\site-packages\\ultralytics\\engine\\trainer.py:321\u001B[0m, in \u001B[0;36mBaseTrainer._setup_train\u001B[1;34m(self, world_size)\u001B[0m\n\u001B[0;32m    319\u001B[0m \u001B[38;5;28mself\u001B[39m\u001B[38;5;241m.\u001B[39mresume_training(ckpt)\n\u001B[0;32m    320\u001B[0m \u001B[38;5;28mself\u001B[39m\u001B[38;5;241m.\u001B[39mscheduler\u001B[38;5;241m.\u001B[39mlast_epoch \u001B[38;5;241m=\u001B[39m \u001B[38;5;28mself\u001B[39m\u001B[38;5;241m.\u001B[39mstart_epoch \u001B[38;5;241m-\u001B[39m \u001B[38;5;241m1\u001B[39m  \u001B[38;5;66;03m# do not move\u001B[39;00m\n\u001B[1;32m--> 321\u001B[0m \u001B[38;5;28;43mself\u001B[39;49m\u001B[38;5;241;43m.\u001B[39;49m\u001B[43mrun_callbacks\u001B[49m\u001B[43m(\u001B[49m\u001B[38;5;124;43m\"\u001B[39;49m\u001B[38;5;124;43mon_pretrain_routine_end\u001B[39;49m\u001B[38;5;124;43m\"\u001B[39;49m\u001B[43m)\u001B[49m\n",
      "File \u001B[1;32m~\\Documents\\Programming\\PlateScanner\\.venv\\Lib\\site-packages\\ultralytics\\engine\\trainer.py:168\u001B[0m, in \u001B[0;36mBaseTrainer.run_callbacks\u001B[1;34m(self, event)\u001B[0m\n\u001B[0;32m    166\u001B[0m \u001B[38;5;250m\u001B[39m\u001B[38;5;124;03m\"\"\"Run all existing callbacks associated with a particular event.\"\"\"\u001B[39;00m\n\u001B[0;32m    167\u001B[0m \u001B[38;5;28;01mfor\u001B[39;00m callback \u001B[38;5;129;01min\u001B[39;00m \u001B[38;5;28mself\u001B[39m\u001B[38;5;241m.\u001B[39mcallbacks\u001B[38;5;241m.\u001B[39mget(event, []):\n\u001B[1;32m--> 168\u001B[0m     \u001B[43mcallback\u001B[49m\u001B[43m(\u001B[49m\u001B[38;5;28;43mself\u001B[39;49m\u001B[43m)\u001B[49m\n",
      "File \u001B[1;32m~\\Documents\\Programming\\PlateScanner\\.venv\\Lib\\site-packages\\ultralytics\\utils\\callbacks\\mlflow.py:76\u001B[0m, in \u001B[0;36mon_pretrain_routine_end\u001B[1;34m(trainer)\u001B[0m\n\u001B[0;32m     74\u001B[0m experiment_name \u001B[38;5;241m=\u001B[39m os\u001B[38;5;241m.\u001B[39menviron\u001B[38;5;241m.\u001B[39mget(\u001B[38;5;124m\"\u001B[39m\u001B[38;5;124mMLFLOW_EXPERIMENT_NAME\u001B[39m\u001B[38;5;124m\"\u001B[39m) \u001B[38;5;129;01mor\u001B[39;00m trainer\u001B[38;5;241m.\u001B[39margs\u001B[38;5;241m.\u001B[39mproject \u001B[38;5;129;01mor\u001B[39;00m \u001B[38;5;124m\"\u001B[39m\u001B[38;5;124m/Shared/YOLOv8\u001B[39m\u001B[38;5;124m\"\u001B[39m\n\u001B[0;32m     75\u001B[0m run_name \u001B[38;5;241m=\u001B[39m os\u001B[38;5;241m.\u001B[39menviron\u001B[38;5;241m.\u001B[39mget(\u001B[38;5;124m\"\u001B[39m\u001B[38;5;124mMLFLOW_RUN\u001B[39m\u001B[38;5;124m\"\u001B[39m) \u001B[38;5;129;01mor\u001B[39;00m trainer\u001B[38;5;241m.\u001B[39margs\u001B[38;5;241m.\u001B[39mname\n\u001B[1;32m---> 76\u001B[0m \u001B[43mmlflow\u001B[49m\u001B[38;5;241;43m.\u001B[39;49m\u001B[43mset_experiment\u001B[49m\u001B[43m(\u001B[49m\u001B[43mexperiment_name\u001B[49m\u001B[43m)\u001B[49m\n\u001B[0;32m     78\u001B[0m mlflow\u001B[38;5;241m.\u001B[39mautolog()\n\u001B[0;32m     79\u001B[0m \u001B[38;5;28;01mtry\u001B[39;00m:\n",
      "File \u001B[1;32m~\\Documents\\Programming\\PlateScanner\\.venv\\Lib\\site-packages\\mlflow\\tracking\\fluent.py:143\u001B[0m, in \u001B[0;36mset_experiment\u001B[1;34m(experiment_name, experiment_id)\u001B[0m\n\u001B[0;32m    135\u001B[0m \u001B[38;5;28;01mif\u001B[39;00m (experiment_name \u001B[38;5;129;01mis\u001B[39;00m \u001B[38;5;129;01mnot\u001B[39;00m \u001B[38;5;28;01mNone\u001B[39;00m \u001B[38;5;129;01mand\u001B[39;00m experiment_id \u001B[38;5;129;01mis\u001B[39;00m \u001B[38;5;129;01mnot\u001B[39;00m \u001B[38;5;28;01mNone\u001B[39;00m) \u001B[38;5;129;01mor\u001B[39;00m (\n\u001B[0;32m    136\u001B[0m     experiment_name \u001B[38;5;129;01mis\u001B[39;00m \u001B[38;5;28;01mNone\u001B[39;00m \u001B[38;5;129;01mand\u001B[39;00m experiment_id \u001B[38;5;129;01mis\u001B[39;00m \u001B[38;5;28;01mNone\u001B[39;00m\n\u001B[0;32m    137\u001B[0m ):\n\u001B[0;32m    138\u001B[0m     \u001B[38;5;28;01mraise\u001B[39;00m MlflowException(\n\u001B[0;32m    139\u001B[0m         message\u001B[38;5;241m=\u001B[39m\u001B[38;5;124m\"\u001B[39m\u001B[38;5;124mMust specify exactly one of: `experiment_id` or `experiment_name`.\u001B[39m\u001B[38;5;124m\"\u001B[39m,\n\u001B[0;32m    140\u001B[0m         error_code\u001B[38;5;241m=\u001B[39mINVALID_PARAMETER_VALUE,\n\u001B[0;32m    141\u001B[0m     )\n\u001B[1;32m--> 143\u001B[0m client \u001B[38;5;241m=\u001B[39m \u001B[43mMlflowClient\u001B[49m\u001B[43m(\u001B[49m\u001B[43m)\u001B[49m\n\u001B[0;32m    144\u001B[0m \u001B[38;5;28;01mif\u001B[39;00m experiment_id \u001B[38;5;129;01mis\u001B[39;00m \u001B[38;5;28;01mNone\u001B[39;00m:\n\u001B[0;32m    145\u001B[0m     experiment \u001B[38;5;241m=\u001B[39m client\u001B[38;5;241m.\u001B[39mget_experiment_by_name(experiment_name)\n",
      "File \u001B[1;32m~\\Documents\\Programming\\PlateScanner\\.venv\\Lib\\site-packages\\mlflow\\tracking\\client.py:133\u001B[0m, in \u001B[0;36mMlflowClient.__init__\u001B[1;34m(self, tracking_uri, registry_uri)\u001B[0m\n\u001B[0;32m    131\u001B[0m final_tracking_uri \u001B[38;5;241m=\u001B[39m utils\u001B[38;5;241m.\u001B[39m_resolve_tracking_uri(tracking_uri)\n\u001B[0;32m    132\u001B[0m \u001B[38;5;28mself\u001B[39m\u001B[38;5;241m.\u001B[39m_registry_uri \u001B[38;5;241m=\u001B[39m registry_utils\u001B[38;5;241m.\u001B[39m_resolve_registry_uri(registry_uri, tracking_uri)\n\u001B[1;32m--> 133\u001B[0m \u001B[38;5;28mself\u001B[39m\u001B[38;5;241m.\u001B[39m_tracking_client \u001B[38;5;241m=\u001B[39m \u001B[43mTrackingServiceClient\u001B[49m\u001B[43m(\u001B[49m\u001B[43mfinal_tracking_uri\u001B[49m\u001B[43m)\u001B[49m\n",
      "File \u001B[1;32m~\\Documents\\Programming\\PlateScanner\\.venv\\Lib\\site-packages\\mlflow\\tracking\\_tracking_service\\client.py:81\u001B[0m, in \u001B[0;36mTrackingServiceClient.__init__\u001B[1;34m(self, tracking_uri)\u001B[0m\n\u001B[0;32m     76\u001B[0m \u001B[38;5;28mself\u001B[39m\u001B[38;5;241m.\u001B[39mtracking_uri \u001B[38;5;241m=\u001B[39m tracking_uri\n\u001B[0;32m     77\u001B[0m \u001B[38;5;66;03m# NB: Fetch the tracking store (`self.store`) upon client initialization to ensure that\u001B[39;00m\n\u001B[0;32m     78\u001B[0m \u001B[38;5;66;03m# the tracking URI is valid and the store can be properly resolved. We define `store` as a\u001B[39;00m\n\u001B[0;32m     79\u001B[0m \u001B[38;5;66;03m# property method to ensure that the client is serializable, even if the store is not\u001B[39;00m\n\u001B[0;32m     80\u001B[0m \u001B[38;5;66;03m# self.store\u001B[39;00m\n\u001B[1;32m---> 81\u001B[0m \u001B[38;5;28;43mself\u001B[39;49m\u001B[38;5;241;43m.\u001B[39;49m\u001B[43mstore\u001B[49m\n",
      "File \u001B[1;32m~\\Documents\\Programming\\PlateScanner\\.venv\\Lib\\site-packages\\mlflow\\tracking\\_tracking_service\\client.py:85\u001B[0m, in \u001B[0;36mTrackingServiceClient.store\u001B[1;34m(self)\u001B[0m\n\u001B[0;32m     83\u001B[0m \u001B[38;5;129m@property\u001B[39m\n\u001B[0;32m     84\u001B[0m \u001B[38;5;28;01mdef\u001B[39;00m \u001B[38;5;21mstore\u001B[39m(\u001B[38;5;28mself\u001B[39m):\n\u001B[1;32m---> 85\u001B[0m     \u001B[38;5;28;01mreturn\u001B[39;00m \u001B[43mutils\u001B[49m\u001B[38;5;241;43m.\u001B[39;49m\u001B[43m_get_store\u001B[49m\u001B[43m(\u001B[49m\u001B[38;5;28;43mself\u001B[39;49m\u001B[38;5;241;43m.\u001B[39;49m\u001B[43mtracking_uri\u001B[49m\u001B[43m)\u001B[49m\n",
      "File \u001B[1;32m~\\Documents\\Programming\\PlateScanner\\.venv\\Lib\\site-packages\\mlflow\\tracking\\_tracking_service\\utils.py:208\u001B[0m, in \u001B[0;36m_get_store\u001B[1;34m(store_uri, artifact_uri)\u001B[0m\n\u001B[0;32m    207\u001B[0m \u001B[38;5;28;01mdef\u001B[39;00m \u001B[38;5;21m_get_store\u001B[39m(store_uri\u001B[38;5;241m=\u001B[39m\u001B[38;5;28;01mNone\u001B[39;00m, artifact_uri\u001B[38;5;241m=\u001B[39m\u001B[38;5;28;01mNone\u001B[39;00m):\n\u001B[1;32m--> 208\u001B[0m     \u001B[38;5;28;01mreturn\u001B[39;00m \u001B[43m_tracking_store_registry\u001B[49m\u001B[38;5;241;43m.\u001B[39;49m\u001B[43mget_store\u001B[49m\u001B[43m(\u001B[49m\u001B[43mstore_uri\u001B[49m\u001B[43m,\u001B[49m\u001B[43m \u001B[49m\u001B[43martifact_uri\u001B[49m\u001B[43m)\u001B[49m\n",
      "File \u001B[1;32m~\\Documents\\Programming\\PlateScanner\\.venv\\Lib\\site-packages\\mlflow\\tracking\\_tracking_service\\registry.py:42\u001B[0m, in \u001B[0;36mTrackingStoreRegistry.get_store\u001B[1;34m(self, store_uri, artifact_uri)\u001B[0m\n\u001B[0;32m     39\u001B[0m \u001B[38;5;28;01mfrom\u001B[39;00m \u001B[38;5;21;01mmlflow\u001B[39;00m\u001B[38;5;21;01m.\u001B[39;00m\u001B[38;5;21;01mtracking\u001B[39;00m\u001B[38;5;21;01m.\u001B[39;00m\u001B[38;5;21;01m_tracking_service\u001B[39;00m \u001B[38;5;28;01mimport\u001B[39;00m utils\n\u001B[0;32m     41\u001B[0m resolved_store_uri \u001B[38;5;241m=\u001B[39m utils\u001B[38;5;241m.\u001B[39m_resolve_tracking_uri(store_uri)\n\u001B[1;32m---> 42\u001B[0m \u001B[38;5;28;01mreturn\u001B[39;00m \u001B[38;5;28;43mself\u001B[39;49m\u001B[38;5;241;43m.\u001B[39;49m\u001B[43m_get_store_with_resolved_uri\u001B[49m\u001B[43m(\u001B[49m\u001B[43mresolved_store_uri\u001B[49m\u001B[43m,\u001B[49m\u001B[43m \u001B[49m\u001B[43martifact_uri\u001B[49m\u001B[43m)\u001B[49m\n",
      "File \u001B[1;32m~\\Documents\\Programming\\PlateScanner\\.venv\\Lib\\site-packages\\mlflow\\tracking\\_tracking_service\\registry.py:51\u001B[0m, in \u001B[0;36mTrackingStoreRegistry._get_store_with_resolved_uri\u001B[1;34m(self, resolved_store_uri, artifact_uri)\u001B[0m\n\u001B[0;32m     44\u001B[0m \u001B[38;5;129m@lru_cache\u001B[39m(maxsize\u001B[38;5;241m=\u001B[39m\u001B[38;5;241m100\u001B[39m)\n\u001B[0;32m     45\u001B[0m \u001B[38;5;28;01mdef\u001B[39;00m \u001B[38;5;21m_get_store_with_resolved_uri\u001B[39m(\u001B[38;5;28mself\u001B[39m, resolved_store_uri, artifact_uri\u001B[38;5;241m=\u001B[39m\u001B[38;5;28;01mNone\u001B[39;00m):\n\u001B[0;32m     46\u001B[0m \u001B[38;5;250m    \u001B[39m\u001B[38;5;124;03m\"\"\"\u001B[39;00m\n\u001B[0;32m     47\u001B[0m \u001B[38;5;124;03m    Retrieve the store associated with a resolved (non-None) store URI and an artifact URI.\u001B[39;00m\n\u001B[0;32m     48\u001B[0m \u001B[38;5;124;03m    Caching is done on resolved URIs because the meaning of an unresolved (None) URI may change\u001B[39;00m\n\u001B[0;32m     49\u001B[0m \u001B[38;5;124;03m    depending on external configuration, such as environment variables\u001B[39;00m\n\u001B[0;32m     50\u001B[0m \u001B[38;5;124;03m    \"\"\"\u001B[39;00m\n\u001B[1;32m---> 51\u001B[0m     builder \u001B[38;5;241m=\u001B[39m \u001B[38;5;28;43mself\u001B[39;49m\u001B[38;5;241;43m.\u001B[39;49m\u001B[43mget_store_builder\u001B[49m\u001B[43m(\u001B[49m\u001B[43mresolved_store_uri\u001B[49m\u001B[43m)\u001B[49m\n\u001B[0;32m     52\u001B[0m     \u001B[38;5;28;01mreturn\u001B[39;00m builder(store_uri\u001B[38;5;241m=\u001B[39mresolved_store_uri, artifact_uri\u001B[38;5;241m=\u001B[39martifact_uri)\n",
      "File \u001B[1;32m~\\Documents\\Programming\\PlateScanner\\.venv\\Lib\\site-packages\\mlflow\\tracking\\registry.py:84\u001B[0m, in \u001B[0;36mStoreRegistry.get_store_builder\u001B[1;34m(self, store_uri)\u001B[0m\n\u001B[0;32m     82\u001B[0m     store_builder \u001B[38;5;241m=\u001B[39m \u001B[38;5;28mself\u001B[39m\u001B[38;5;241m.\u001B[39m_registry[scheme]\n\u001B[0;32m     83\u001B[0m \u001B[38;5;28;01mexcept\u001B[39;00m \u001B[38;5;167;01mKeyError\u001B[39;00m:\n\u001B[1;32m---> 84\u001B[0m     \u001B[38;5;28;01mraise\u001B[39;00m UnsupportedModelRegistryStoreURIException(\n\u001B[0;32m     85\u001B[0m         unsupported_uri\u001B[38;5;241m=\u001B[39mstore_uri, supported_uri_schemes\u001B[38;5;241m=\u001B[39m\u001B[38;5;28mlist\u001B[39m(\u001B[38;5;28mself\u001B[39m\u001B[38;5;241m.\u001B[39m_registry\u001B[38;5;241m.\u001B[39mkeys())\n\u001B[0;32m     86\u001B[0m     )\n\u001B[0;32m     87\u001B[0m \u001B[38;5;28;01mreturn\u001B[39;00m store_builder\n",
      "\u001B[1;31mUnsupportedModelRegistryStoreURIException\u001B[0m:  Model registry functionality is unavailable; got unsupported URI 'C:\\Users\\monom\\Documents\\Programming\\PlateScanner\\runs\\mlflow' for model registry data storage. Supported URI schemes are: ['', 'file', 'databricks', 'databricks-uc', 'uc', 'http', 'https', 'postgresql', 'mysql', 'sqlite', 'mssql']. See https://www.mlflow.org/docs/latest/tracking.html#storage for how to run an MLflow server against one of the supported backend storage locations."
     ]
    }
   ],
   "execution_count": 38
  },
  {
   "metadata": {},
   "cell_type": "code",
   "outputs": [],
   "execution_count": null,
   "source": "",
   "id": "a86aa841e9297843"
  }
 ],
 "metadata": {
  "kernelspec": {
   "display_name": "Python 3",
   "language": "python",
   "name": "python3"
  },
  "language_info": {
   "codemirror_mode": {
    "name": "ipython",
    "version": 2
   },
   "file_extension": ".py",
   "mimetype": "text/x-python",
   "name": "python",
   "nbconvert_exporter": "python",
   "pygments_lexer": "ipython2",
   "version": "2.7.6"
  }
 },
 "nbformat": 4,
 "nbformat_minor": 5
}
